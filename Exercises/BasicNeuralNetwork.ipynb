{
 "cells": [
  {
   "cell_type": "code",
   "execution_count": 26,
   "metadata": {},
   "outputs": [],
   "source": [
    "# Import our dependencies\n",
    "import pandas as pd\n",
    "import matplotlib as plt\n",
    "from sklearn.datasets import make_blobs\n",
    "import sklearn as skl\n",
    "import tensorflow as tf"
   ]
  },
  {
   "cell_type": "code",
   "execution_count": 27,
   "metadata": {},
   "outputs": [
    {
     "data": {
      "text/plain": [
       "<matplotlib.axes._subplots.AxesSubplot at 0x224a88ca4c8>"
      ]
     },
     "execution_count": 27,
     "metadata": {},
     "output_type": "execute_result"
    },
    {
     "data": {
      "image/png": "[encoded data removed]",
      "text/plain": [
       "<Figure size 432x288 with 2 Axes>"
      ]
     },
     "metadata": {
      "needs_background": "light"
     },
     "output_type": "display_data"
    }
   ],
   "source": [
    "# Generate dummy dataset\n",
    "X, y = make_blobs(n_samples=1000, centers=2, n_features=2, random_state=78)\n",
    "\n",
    "# Creating a DataFrame with the dummy data\n",
    "df = pd.DataFrame(X, columns=[\"Feature 1\", \"Feature 2\"])\n",
    "df[\"Target\"] = y\n",
    "\n",
    "# Plotting the dummy data\n",
    "df.plot.scatter(x=\"Feature 1\", y=\"Feature 2\", c=\"Target\", colormap=\"winter\")\n"
   ]
  },
  {
   "cell_type": "code",
   "execution_count": 28,
   "metadata": {},
   "outputs": [],
   "source": [
    "# Use sklearn to split dataset\n",
    "from sklearn.model_selection import train_test_split\n",
    "X_train, X_test, y_train, y_test = train_test_split(X, y, random_state =78)"
   ]
  },
  {
   "cell_type": "code",
   "execution_count": 29,
   "metadata": {},
   "outputs": [],
   "source": [
    "# Create scaler instance\n",
    "X_scaler = skl.preprocessing.StandardScaler()\n",
    "\n",
    "# Fit the scaler\n",
    "X_scaler.fit(X_train)\n",
    "\n",
    "# Scale the data\n",
    "X_train_scaled = X_scaler.transform(X_train)\n",
    "X_test_scaled = X_scaler.transform(X_test)"
   ]
  },
  {
   "cell_type": "code",
   "execution_count": 30,
   "metadata": {},
   "outputs": [],
   "source": [
    "# Create the Keras Sequential model\n",
    "nn_model = tf.keras.models.Sequential()"
   ]
  },
  {
   "cell_type": "code",
   "execution_count": 31,
   "metadata": {},
   "outputs": [],
   "source": [
    "# Add our first Dense layer, including the input layer\n",
    "nn_model.add(tf.keras.layers.Dense(units=1, activation=\"relu\", input_dim=2))"
   ]
  },
  {
   "cell_type": "code",
   "execution_count": 32,
   "metadata": {},
   "outputs": [],
   "source": [
    "# Add the output layer that uses a probability activation function\n",
    "nn_model.add(tf.keras.layers.Dense(units=1, activation=\"sigmoid\"))\n"
   ]
  },
  {
   "cell_type": "code",
   "execution_count": 33,
   "metadata": {},
   "outputs": [
    {
     "name": "stdout",
     "output_type": "stream",
     "text": [
      "Model: \"sequential_1\"\n",
      "_________________________________________________________________\n",
      "Layer (type)                 Output Shape              Param #   \n",
      "=================================================================\n",
      "dense_2 (Dense)              (None, 1)                 3         \n",
      "_________________________________________________________________\n",
      "dense_3 (Dense)              (None, 1)                 2         \n",
      "=================================================================\n",
      "Total params: 5\n",
      "Trainable params: 5\n",
      "Non-trainable params: 0\n",
      "_________________________________________________________________\n"
     ]
    }
   ],
   "source": [
    "# Check the structure of the Sequential model\n",
    "nn_model.summary()"
   ]
  },
  {
   "cell_type": "code",
   "execution_count": 34,
   "metadata": {},
   "outputs": [],
   "source": [
    "# Compile the Sequential model together and customize metrics\n",
    "nn_model.compile(loss=\"binary_crossentropy\", optimizer=\"adam\", metrics=[\"accuracy\"])\n"
   ]
  },
  {
   "cell_type": "code",
   "execution_count": 35,
   "metadata": {},
   "outputs": [
    {
     "name": "stdout",
     "output_type": "stream",
     "text": [
      "Epoch 1/100\n",
      "750/750 [==============================] - 0s 173us/sample - loss: 0.5591 - acc: 1.0000\n",
      "Epoch 2/100\n",
      "750/750 [==============================] - 0s 40us/sample - loss: 0.5470 - acc: 1.0000\n",
      "Epoch 3/100\n",
      "750/750 [==============================] - 0s 41us/sample - loss: 0.5344 - acc: 1.0000\n",
      "Epoch 4/100\n",
      "750/750 [==============================] - 0s 39us/sample - loss: 0.5218 - acc: 1.0000\n",
      "Epoch 5/100\n",
      "750/750 [==============================] - 0s 41us/sample - loss: 0.5089 - acc: 1.0000\n",
      "Epoch 6/100\n",
      "750/750 [==============================] - 0s 64us/sample - loss: 0.4958 - acc: 1.0000\n",
      "Epoch 7/100\n",
      "750/750 [==============================] - 0s 40us/sample - loss: 0.4828 - acc: 1.0000\n",
      "Epoch 8/100\n",
      "750/750 [==============================] - 0s 37us/sample - loss: 0.4698 - acc: 1.0000\n",
      "Epoch 9/100\n",
      "750/750 [==============================] - ETA: 0s - loss: 0.4591 - acc: 1.000 - 0s 85us/sample - loss: 0.4569 - acc: 1.0000\n",
      "Epoch 10/100\n",
      "750/750 [==============================] - 0s 47us/sample - loss: 0.4442 - acc: 1.0000\n",
      "Epoch 11/100\n",
      "750/750 [==============================] - 0s 39us/sample - loss: 0.4316 - acc: 1.0000\n",
      "Epoch 12/100\n",
      "750/750 [==============================] - 0s 39us/sample - loss: 0.4193 - acc: 1.0000\n",
      "Epoch 13/100\n",
      "750/750 [==============================] - 0s 40us/sample - loss: 0.4073 - acc: 1.0000\n",
      "Epoch 14/100\n",
      "750/750 [==============================] - 0s 39us/sample - loss: 0.3957 - acc: 1.0000\n",
      "Epoch 15/100\n",
      "750/750 [==============================] - 0s 37us/sample - loss: 0.3844 - acc: 1.0000\n",
      "Epoch 16/100\n",
      "750/750 [==============================] - 0s 45us/sample - loss: 0.3734 - acc: 1.0000\n",
      "Epoch 17/100\n",
      "750/750 [==============================] - 0s 47us/sample - loss: 0.3628 - acc: 1.0000\n",
      "Epoch 18/100\n",
      "750/750 [==============================] - 0s 47us/sample - loss: 0.3526 - acc: 1.0000\n",
      "Epoch 19/100\n",
      "750/750 [==============================] - 0s 49us/sample - loss: 0.3427 - acc: 1.0000\n",
      "Epoch 20/100\n",
      "750/750 [==============================] - 0s 45us/sample - loss: 0.3331 - acc: 1.0000\n",
      "Epoch 21/100\n",
      "750/750 [==============================] - 0s 51us/sample - loss: 0.3239 - acc: 1.0000\n",
      "Epoch 22/100\n",
      "750/750 [==============================] - 0s 46us/sample - loss: 0.3151 - acc: 1.0000\n",
      "Epoch 23/100\n",
      "750/750 [==============================] - 0s 48us/sample - loss: 0.3066 - acc: 1.0000\n",
      "Epoch 24/100\n",
      "750/750 [==============================] - 0s 43us/sample - loss: 0.2985 - acc: 1.0000\n",
      "Epoch 25/100\n",
      "750/750 [==============================] - 0s 39us/sample - loss: 0.2906 - acc: 1.0000\n",
      "Epoch 26/100\n",
      "750/750 [==============================] - 0s 45us/sample - loss: 0.2830 - acc: 1.0000\n",
      "Epoch 27/100\n",
      "750/750 [==============================] - 0s 44us/sample - loss: 0.2758 - acc: 1.0000\n",
      "Epoch 28/100\n",
      "750/750 [==============================] - 0s 39us/sample - loss: 0.2688 - acc: 1.0000\n",
      "Epoch 29/100\n",
      "750/750 [==============================] - 0s 39us/sample - loss: 0.2620 - acc: 1.0000\n",
      "Epoch 30/100\n",
      "750/750 [==============================] - 0s 43us/sample - loss: 0.2556 - acc: 1.0000\n",
      "Epoch 31/100\n",
      "750/750 [==============================] - 0s 41us/sample - loss: 0.2494 - acc: 1.0000\n",
      "Epoch 32/100\n",
      "750/750 [==============================] - 0s 40us/sample - loss: 0.2434 - acc: 1.0000\n",
      "Epoch 33/100\n",
      "750/750 [==============================] - 0s 47us/sample - loss: 0.2376 - acc: 1.0000\n",
      "Epoch 34/100\n",
      "750/750 [==============================] - 0s 45us/sample - loss: 0.2320 - acc: 1.0000\n",
      "Epoch 35/100\n",
      "750/750 [==============================] - 0s 44us/sample - loss: 0.2266 - acc: 1.0000\n",
      "Epoch 36/100\n",
      "750/750 [==============================] - 0s 44us/sample - loss: 0.2214 - acc: 1.0000\n",
      "Epoch 37/100\n",
      "750/750 [==============================] - 0s 40us/sample - loss: 0.2164 - acc: 1.0000\n",
      "Epoch 38/100\n",
      "750/750 [==============================] - 0s 36us/sample - loss: 0.2116 - acc: 1.0000\n",
      "Epoch 39/100\n",
      "750/750 [==============================] - 0s 36us/sample - loss: 0.2069 - acc: 1.0000\n",
      "Epoch 40/100\n",
      "750/750 [==============================] - 0s 37us/sample - loss: 0.2023 - acc: 1.0000\n",
      "Epoch 41/100\n",
      "750/750 [==============================] - 0s 40us/sample - loss: 0.1980 - acc: 1.0000\n",
      "Epoch 42/100\n",
      "750/750 [==============================] - 0s 37us/sample - loss: 0.1937 - acc: 1.0000\n",
      "Epoch 43/100\n",
      "750/750 [==============================] - 0s 36us/sample - loss: 0.1896 - acc: 1.0000\n",
      "Epoch 44/100\n",
      "750/750 [==============================] - 0s 39us/sample - loss: 0.1857 - acc: 1.0000\n",
      "Epoch 45/100\n",
      "750/750 [==============================] - 0s 37us/sample - loss: 0.1818 - acc: 1.0000\n",
      "Epoch 46/100\n",
      "750/750 [==============================] - 0s 36us/sample - loss: 0.1780 - acc: 1.0000\n",
      "Epoch 47/100\n",
      "750/750 [==============================] - 0s 37us/sample - loss: 0.1744 - acc: 1.0000\n",
      "Epoch 48/100\n",
      "750/750 [==============================] - 0s 40us/sample - loss: 0.1709 - acc: 1.0000\n",
      "Epoch 49/100\n",
      "750/750 [==============================] - 0s 37us/sample - loss: 0.1674 - acc: 1.0000\n",
      "Epoch 50/100\n",
      "750/750 [==============================] - 0s 48us/sample - loss: 0.1641 - acc: 1.0000\n",
      "Epoch 51/100\n",
      "750/750 [==============================] - 0s 41us/sample - loss: 0.1609 - acc: 1.0000\n",
      "Epoch 52/100\n",
      "750/750 [==============================] - 0s 49us/sample - loss: 0.1578 - acc: 1.0000\n",
      "Epoch 53/100\n",
      "750/750 [==============================] - 0s 56us/sample - loss: 0.1547 - acc: 1.0000\n",
      "Epoch 54/100\n",
      "750/750 [==============================] - 0s 51us/sample - loss: 0.1518 - acc: 1.0000\n",
      "Epoch 55/100\n",
      "750/750 [==============================] - 0s 37us/sample - loss: 0.1489 - acc: 1.0000\n",
      "Epoch 56/100\n",
      "750/750 [==============================] - 0s 39us/sample - loss: 0.1461 - acc: 1.0000\n",
      "Epoch 57/100\n",
      "750/750 [==============================] - 0s 36us/sample - loss: 0.1434 - acc: 1.0000\n",
      "Epoch 58/100\n",
      "750/750 [==============================] - 0s 47us/sample - loss: 0.1407 - acc: 1.0000\n",
      "Epoch 59/100\n",
      "750/750 [==============================] - 0s 33us/sample - loss: 0.1381 - acc: 1.0000\n",
      "Epoch 60/100\n",
      "750/750 [==============================] - 0s 34us/sample - loss: 0.1356 - acc: 1.0000\n",
      "Epoch 61/100\n",
      "750/750 [==============================] - 0s 37us/sample - loss: 0.1331 - acc: 1.0000\n",
      "Epoch 62/100\n",
      "750/750 [==============================] - 0s 35us/sample - loss: 0.1307 - acc: 1.0000\n",
      "Epoch 63/100\n",
      "750/750 [==============================] - 0s 37us/sample - loss: 0.1284 - acc: 1.0000\n",
      "Epoch 64/100\n",
      "750/750 [==============================] - 0s 35us/sample - loss: 0.1261 - acc: 1.0000\n",
      "Epoch 65/100\n",
      "750/750 [==============================] - 0s 36us/sample - loss: 0.1239 - acc: 1.0000\n",
      "Epoch 66/100\n",
      "750/750 [==============================] - 0s 37us/sample - loss: 0.1217 - acc: 1.0000\n",
      "Epoch 67/100\n",
      "750/750 [==============================] - 0s 36us/sample - loss: 0.1196 - acc: 1.0000\n",
      "Epoch 68/100\n",
      "750/750 [==============================] - 0s 43us/sample - loss: 0.1175 - acc: 1.0000\n",
      "Epoch 69/100\n",
      "750/750 [==============================] - 0s 40us/sample - loss: 0.1155 - acc: 1.0000\n",
      "Epoch 70/100\n",
      "750/750 [==============================] - 0s 36us/sample - loss: 0.1135 - acc: 1.0000\n",
      "Epoch 71/100\n",
      "750/750 [==============================] - 0s 36us/sample - loss: 0.1116 - acc: 1.0000\n",
      "Epoch 72/100\n",
      "750/750 [==============================] - 0s 36us/sample - loss: 0.1097 - acc: 1.0000\n",
      "Epoch 73/100\n",
      "750/750 [==============================] - 0s 43us/sample - loss: 0.1079 - acc: 1.0000\n",
      "Epoch 74/100\n",
      "750/750 [==============================] - 0s 39us/sample - loss: 0.1061 - acc: 1.0000\n",
      "Epoch 75/100\n",
      "750/750 [==============================] - 0s 37us/sample - loss: 0.1043 - acc: 1.0000\n",
      "Epoch 76/100\n",
      "750/750 [==============================] - 0s 36us/sample - loss: 0.1026 - acc: 1.0000\n",
      "Epoch 77/100\n",
      "750/750 [==============================] - 0s 36us/sample - loss: 0.1010 - acc: 1.0000\n",
      "Epoch 78/100\n",
      "750/750 [==============================] - 0s 37us/sample - loss: 0.0993 - acc: 1.0000\n",
      "Epoch 79/100\n",
      "750/750 [==============================] - 0s 35us/sample - loss: 0.0977 - acc: 1.0000\n",
      "Epoch 80/100\n",
      "750/750 [==============================] - 0s 33us/sample - loss: 0.0961 - acc: 1.0000\n",
      "Epoch 81/100\n",
      "750/750 [==============================] - 0s 37us/sample - loss: 0.0946 - acc: 1.0000\n",
      "Epoch 82/100\n",
      "750/750 [==============================] - 0s 35us/sample - loss: 0.0931 - acc: 1.0000\n",
      "Epoch 83/100\n",
      "750/750 [==============================] - 0s 41us/sample - loss: 0.0916 - acc: 1.0000\n",
      "Epoch 84/100\n",
      "750/750 [==============================] - 0s 36us/sample - loss: 0.0902 - acc: 1.0000\n",
      "Epoch 85/100\n",
      "750/750 [==============================] - 0s 35us/sample - loss: 0.0888 - acc: 1.0000\n",
      "Epoch 86/100\n",
      "750/750 [==============================] - 0s 37us/sample - loss: 0.0874 - acc: 1.0000\n",
      "Epoch 87/100\n",
      "750/750 [==============================] - 0s 45us/sample - loss: 0.0860 - acc: 1.0000\n",
      "Epoch 88/100\n",
      "750/750 [==============================] - 0s 47us/sample - loss: 0.0847 - acc: 1.0000\n",
      "Epoch 89/100\n",
      "750/750 [==============================] - 0s 44us/sample - loss: 0.0834 - acc: 1.0000\n",
      "Epoch 90/100\n",
      "750/750 [==============================] - 0s 40us/sample - loss: 0.0821 - acc: 1.0000\n",
      "Epoch 91/100\n",
      "750/750 [==============================] - 0s 40us/sample - loss: 0.0809 - acc: 1.0000\n",
      "Epoch 92/100\n",
      "750/750 [==============================] - 0s 52us/sample - loss: 0.0796 - acc: 1.0000\n",
      "Epoch 93/100\n",
      "750/750 [==============================] - 0s 39us/sample - loss: 0.0784 - acc: 1.0000\n",
      "Epoch 94/100\n",
      "750/750 [==============================] - 0s 37us/sample - loss: 0.0773 - acc: 1.0000\n",
      "Epoch 95/100\n",
      "750/750 [==============================] - 0s 36us/sample - loss: 0.0761 - acc: 1.0000\n",
      "Epoch 96/100\n",
      "750/750 [==============================] - 0s 41us/sample - loss: 0.0750 - acc: 1.0000\n",
      "Epoch 97/100\n",
      "750/750 [==============================] - 0s 36us/sample - loss: 0.0739 - acc: 1.0000\n",
      "Epoch 98/100\n",
      "750/750 [==============================] - 0s 35us/sample - loss: 0.0728 - acc: 1.0000\n",
      "Epoch 99/100\n",
      "750/750 [==============================] - 0s 36us/sample - loss: 0.0717 - acc: 1.0000\n",
      "Epoch 100/100\n",
      "750/750 [==============================] - 0s 35us/sample - loss: 0.0707 - acc: 1.0000\n"
     ]
    }
   ],
   "source": [
    "# Fit the model to the training data\n",
    "fit_model = nn_model.fit(X_train_scaled, y_train, epochs=100)\n"
   ]
  },
  {
   "cell_type": "code",
   "execution_count": 36,
   "metadata": {},
   "outputs": [
    {
     "data": {
      "text/plain": [
       "<matplotlib.axes._subplots.AxesSubplot at 0x224a74a8488>"
      ]
     },
     "execution_count": 36,
     "metadata": {},
     "output_type": "execute_result"
    },
    {
     "data": {
      "image/png": "[encoded data removed]",
      "text/plain": [
       "<Figure size 432x288 with 1 Axes>"
      ]
     },
     "metadata": {
      "needs_background": "light"
     },
     "output_type": "display_data"
    }
   ],
   "source": [
    "# Create a DataFrame containing training history\n",
    "history_df = pd.DataFrame(fit_model.history, index=range(1,len(fit_model.history[\"loss\"])+1))\n",
    "\n",
    "# Plot the loss\n",
    "history_df.plot(y=\"loss\")\n"
   ]
  },
  {
   "cell_type": "code",
   "execution_count": 37,
   "metadata": {},
   "outputs": [
    {
     "data": {
      "text/plain": [
       "<matplotlib.axes._subplots.AxesSubplot at 0x224a8d75f08>"
      ]
     },
     "execution_count": 37,
     "metadata": {},
     "output_type": "execute_result"
    },
    {
     "data": {
      "image/png": "[encoded data removed]",
      "text/plain": [
       "<Figure size 432x288 with 1 Axes>"
      ]
     },
     "metadata": {
      "needs_background": "light"
     },
     "output_type": "display_data"
    }
   ],
   "source": [
    "# Plot the accuracy\n",
    "history_df.plot(y=\"acc\")\n"
   ]
  },
  {
   "cell_type": "code",
   "execution_count": 38,
   "metadata": {},
   "outputs": [
    {
     "name": "stdout",
     "output_type": "stream",
     "text": [
      "250/250 - 0s - loss: 0.0661 - acc: 1.0000\n",
      "Loss: 0.06611750972270966, Accuracy: 1.0\n"
     ]
    }
   ],
   "source": [
    "# Evaluate the model using the test data\n",
    "model_loss, model_accuracy = nn_model.evaluate(X_test_scaled,y_test,verbose=2)\n",
    "print(f\"Loss: {model_loss}, Accuracy: {model_accuracy}\")\n"
   ]
  },
  {
   "cell_type": "code",
   "execution_count": 39,
   "metadata": {},
   "outputs": [
    {
     "data": {
      "text/plain": [
       "array([[0],\n",
       "       [1],\n",
       "       [0],\n",
       "       [1],\n",
       "       [0],\n",
       "       [0],\n",
       "       [1],\n",
       "       [1],\n",
       "       [1],\n",
       "       [0]])"
      ]
     },
     "execution_count": 39,
     "metadata": {},
     "output_type": "execute_result"
    }
   ],
   "source": [
    "# Predict the classification of a new set of blob data\n",
    "new_X, new_Y = make_blobs(n_samples=10, centers=2, n_features=2, random_state=78)\n",
    "new_X_scaled = X_scaler.transform(new_X)\n",
    "nn_model.predict_classes(new_X_scaled)\n"
   ]
  },
  {
   "cell_type": "code",
   "execution_count": 40,
   "metadata": {},
   "outputs": [
    {
     "data": {
      "text/plain": [
       "<matplotlib.axes._subplots.AxesSubplot at 0x224a8df77c8>"
      ]
     },
     "execution_count": 40,
     "metadata": {},
     "output_type": "execute_result"
    },
    {
     "data": {
      "image/png": "[encoded data removed]",
      "text/plain": [
       "<Figure size 432x288 with 2 Axes>"
      ]
     },
     "metadata": {
      "needs_background": "light"
     },
     "output_type": "display_data"
    }
   ],
   "source": [
    "from sklearn.datasets import make_moons\n",
    "\n",
    "# Creating dummy nonlinear data\n",
    "X_moons, y_moons = make_moons(n_samples=1000, noise=0.08, random_state=78)\n",
    "\n",
    "# Transforming y_moons to a vertical vector\n",
    "y_moons = y_moons.reshape(-1, 1)\n",
    "\n",
    "# Creating a DataFrame to plot the nonlinear dummy data\n",
    "df_moons = pd.DataFrame(X_moons, columns=[\"Feature 1\", \"Feature 2\"])\n",
    "df_moons[\"Target\"] = y_moons\n",
    "\n",
    "# Plot the nonlinear dummy data\n",
    "df_moons.plot.scatter(x=\"Feature 1\",y=\"Feature 2\", c=\"Target\",colormap=\"winter\")\n"
   ]
  },
  {
   "cell_type": "code",
   "execution_count": 41,
   "metadata": {},
   "outputs": [],
   "source": [
    "# Create training and testing sets\n",
    "X_moon_train, X_moon_test, y_moon_train, y_moon_test = train_test_split(\n",
    "    X_moons, y_moons, random_state=78\n",
    ")\n",
    "\n",
    "# Create the scaler instance\n",
    "X_moon_scaler = skl.preprocessing.StandardScaler()\n",
    "\n",
    "# Fit the scaler\n",
    "X_moon_scaler.fit(X_moon_train)\n",
    "\n",
    "# Scale the data\n",
    "X_moon_train_scaled = X_moon_scaler.transform(X_moon_train)\n",
    "X_moon_test_scaled = X_moon_scaler.transform(X_moon_test)\n"
   ]
  },
  {
   "cell_type": "code",
   "execution_count": 42,
   "metadata": {},
   "outputs": [
    {
     "name": "stdout",
     "output_type": "stream",
     "text": [
      "Epoch 1/100\n",
      "750/750 [==============================] - 0s 36us/sample - loss: 1.0302 - acc: 0.5107\n",
      "Epoch 2/100\n",
      "750/750 [==============================] - 0s 47us/sample - loss: 0.9185 - acc: 0.5267\n",
      "Epoch 3/100\n",
      "750/750 [==============================] - 0s 37us/sample - loss: 0.8430 - acc: 0.5533\n",
      "Epoch 4/100\n",
      "750/750 [==============================] - 0s 37us/sample - loss: 0.7944 - acc: 0.5680\n",
      "Epoch 5/100\n",
      "750/750 [==============================] - 0s 35us/sample - loss: 0.7570 - acc: 0.5880\n",
      "Epoch 6/100\n",
      "750/750 [==============================] - 0s 36us/sample - loss: 0.7293 - acc: 0.5947\n",
      "Epoch 7/100\n",
      "750/750 [==============================] - 0s 43us/sample - loss: 0.7065 - acc: 0.6093\n",
      "Epoch 8/100\n",
      "750/750 [==============================] - 0s 36us/sample - loss: 0.6873 - acc: 0.6147\n",
      "Epoch 9/100\n",
      "750/750 [==============================] - 0s 37us/sample - loss: 0.6709 - acc: 0.6200\n",
      "Epoch 10/100\n",
      "750/750 [==============================] - 0s 32us/sample - loss: 0.6565 - acc: 0.6293\n",
      "Epoch 11/100\n",
      "750/750 [==============================] - 0s 36us/sample - loss: 0.6437 - acc: 0.6400\n",
      "Epoch 12/100\n",
      "750/750 [==============================] - 0s 45us/sample - loss: 0.6318 - acc: 0.6440\n",
      "Epoch 13/100\n",
      "750/750 [==============================] - 0s 35us/sample - loss: 0.6210 - acc: 0.6440\n",
      "Epoch 14/100\n",
      "750/750 [==============================] - 0s 39us/sample - loss: 0.6110 - acc: 0.6480\n",
      "Epoch 15/100\n",
      "750/750 [==============================] - 0s 36us/sample - loss: 0.6016 - acc: 0.6547\n",
      "Epoch 16/100\n",
      "750/750 [==============================] - 0s 43us/sample - loss: 0.5926 - acc: 0.6613\n",
      "Epoch 17/100\n",
      "750/750 [==============================] - 0s 43us/sample - loss: 0.5842 - acc: 0.6667\n",
      "Epoch 18/100\n",
      "750/750 [==============================] - 0s 35us/sample - loss: 0.5761 - acc: 0.6707\n",
      "Epoch 19/100\n",
      "750/750 [==============================] - 0s 36us/sample - loss: 0.5681 - acc: 0.6773\n",
      "Epoch 20/100\n",
      "750/750 [==============================] - 0s 36us/sample - loss: 0.5605 - acc: 0.6840\n",
      "Epoch 21/100\n",
      "750/750 [==============================] - 0s 39us/sample - loss: 0.5529 - acc: 0.6893\n",
      "Epoch 22/100\n",
      "750/750 [==============================] - 0s 37us/sample - loss: 0.5455 - acc: 0.6947\n",
      "Epoch 23/100\n",
      "750/750 [==============================] - 0s 36us/sample - loss: 0.5382 - acc: 0.6973\n",
      "Epoch 24/100\n",
      "750/750 [==============================] - 0s 36us/sample - loss: 0.5312 - acc: 0.7067\n",
      "Epoch 25/100\n",
      "750/750 [==============================] - 0s 35us/sample - loss: 0.5240 - acc: 0.7120\n",
      "Epoch 26/100\n",
      "750/750 [==============================] - 0s 37us/sample - loss: 0.5167 - acc: 0.7173\n",
      "Epoch 27/100\n",
      "750/750 [==============================] - 0s 33us/sample - loss: 0.5096 - acc: 0.7173\n",
      "Epoch 28/100\n",
      "750/750 [==============================] - 0s 40us/sample - loss: 0.5026 - acc: 0.7213\n",
      "Epoch 29/100\n",
      "750/750 [==============================] - 0s 33us/sample - loss: 0.4961 - acc: 0.7227\n",
      "Epoch 30/100\n",
      "750/750 [==============================] - 0s 41us/sample - loss: 0.4895 - acc: 0.7267\n",
      "Epoch 31/100\n",
      "750/750 [==============================] - 0s 36us/sample - loss: 0.4830 - acc: 0.7293\n",
      "Epoch 32/100\n",
      "750/750 [==============================] - 0s 39us/sample - loss: 0.4768 - acc: 0.7307\n",
      "Epoch 33/100\n",
      "750/750 [==============================] - 0s 35us/sample - loss: 0.4703 - acc: 0.7387\n",
      "Epoch 34/100\n",
      "750/750 [==============================] - 0s 33us/sample - loss: 0.4641 - acc: 0.7413\n",
      "Epoch 35/100\n",
      "750/750 [==============================] - 0s 34us/sample - loss: 0.4582 - acc: 0.7440\n",
      "Epoch 36/100\n",
      "750/750 [==============================] - 0s 39us/sample - loss: 0.4525 - acc: 0.7453\n",
      "Epoch 37/100\n",
      "750/750 [==============================] - 0s 37us/sample - loss: 0.4464 - acc: 0.7480\n",
      "Epoch 38/100\n",
      "750/750 [==============================] - 0s 37us/sample - loss: 0.4408 - acc: 0.7533\n",
      "Epoch 39/100\n",
      "750/750 [==============================] - 0s 35us/sample - loss: 0.4350 - acc: 0.7560\n",
      "Epoch 40/100\n",
      "750/750 [==============================] - 0s 33us/sample - loss: 0.4295 - acc: 0.7600\n",
      "Epoch 41/100\n",
      "750/750 [==============================] - 0s 35us/sample - loss: 0.4241 - acc: 0.7600\n",
      "Epoch 42/100\n",
      "750/750 [==============================] - 0s 35us/sample - loss: 0.4188 - acc: 0.7640\n",
      "Epoch 43/100\n",
      "750/750 [==============================] - 0s 37us/sample - loss: 0.4135 - acc: 0.7747\n",
      "Epoch 44/100\n",
      "750/750 [==============================] - 0s 36us/sample - loss: 0.4083 - acc: 0.7800\n",
      "Epoch 45/100\n",
      "750/750 [==============================] - 0s 36us/sample - loss: 0.4033 - acc: 0.7867\n",
      "Epoch 46/100\n",
      "750/750 [==============================] - 0s 39us/sample - loss: 0.3985 - acc: 0.7880\n",
      "Epoch 47/100\n",
      "750/750 [==============================] - 0s 39us/sample - loss: 0.3938 - acc: 0.7907\n",
      "Epoch 48/100\n",
      "750/750 [==============================] - 0s 40us/sample - loss: 0.3890 - acc: 0.7920\n",
      "Epoch 49/100\n",
      "750/750 [==============================] - 0s 37us/sample - loss: 0.3845 - acc: 0.7933\n",
      "Epoch 50/100\n",
      "750/750 [==============================] - 0s 52us/sample - loss: 0.3800 - acc: 0.7960\n",
      "Epoch 51/100\n",
      "750/750 [==============================] - 0s 40us/sample - loss: 0.3756 - acc: 0.8000\n",
      "Epoch 52/100\n",
      "750/750 [==============================] - 0s 36us/sample - loss: 0.3713 - acc: 0.8027\n",
      "Epoch 53/100\n",
      "750/750 [==============================] - 0s 33us/sample - loss: 0.3670 - acc: 0.8067\n",
      "Epoch 54/100\n",
      "750/750 [==============================] - 0s 36us/sample - loss: 0.3630 - acc: 0.8080\n",
      "Epoch 55/100\n",
      "750/750 [==============================] - 0s 35us/sample - loss: 0.3588 - acc: 0.8120\n",
      "Epoch 56/100\n",
      "750/750 [==============================] - 0s 36us/sample - loss: 0.3550 - acc: 0.8147\n",
      "Epoch 57/100\n",
      "750/750 [==============================] - 0s 35us/sample - loss: 0.3510 - acc: 0.8200\n",
      "Epoch 58/100\n",
      "750/750 [==============================] - 0s 36us/sample - loss: 0.3474 - acc: 0.8253\n",
      "Epoch 59/100\n",
      "750/750 [==============================] - 0s 36us/sample - loss: 0.3437 - acc: 0.8267\n",
      "Epoch 60/100\n",
      "750/750 [==============================] - 0s 37us/sample - loss: 0.3403 - acc: 0.8267\n",
      "Epoch 61/100\n",
      "750/750 [==============================] - 0s 39us/sample - loss: 0.3369 - acc: 0.8347\n",
      "Epoch 62/100\n",
      "750/750 [==============================] - 0s 37us/sample - loss: 0.3339 - acc: 0.8427\n",
      "Epoch 63/100\n",
      "750/750 [==============================] - 0s 35us/sample - loss: 0.3308 - acc: 0.8427\n",
      "Epoch 64/100\n",
      "750/750 [==============================] - 0s 35us/sample - loss: 0.3280 - acc: 0.8427\n",
      "Epoch 65/100\n",
      "750/750 [==============================] - 0s 39us/sample - loss: 0.3252 - acc: 0.8427\n",
      "Epoch 66/100\n",
      "750/750 [==============================] - 0s 39us/sample - loss: 0.3224 - acc: 0.8480\n",
      "Epoch 67/100\n",
      "750/750 [==============================] - 0s 37us/sample - loss: 0.3200 - acc: 0.8520\n",
      "Epoch 68/100\n",
      "750/750 [==============================] - 0s 36us/sample - loss: 0.3176 - acc: 0.8547\n",
      "Epoch 69/100\n",
      "750/750 [==============================] - 0s 35us/sample - loss: 0.3153 - acc: 0.8573\n",
      "Epoch 70/100\n",
      "750/750 [==============================] - 0s 33us/sample - loss: 0.3132 - acc: 0.8587\n",
      "Epoch 71/100\n",
      "750/750 [==============================] - 0s 36us/sample - loss: 0.3111 - acc: 0.8627\n",
      "Epoch 72/100\n",
      "750/750 [==============================] - 0s 35us/sample - loss: 0.3091 - acc: 0.8653\n",
      "Epoch 73/100\n",
      "750/750 [==============================] - 0s 33us/sample - loss: 0.3072 - acc: 0.8667\n",
      "Epoch 74/100\n",
      "750/750 [==============================] - 0s 35us/sample - loss: 0.3054 - acc: 0.8667\n",
      "Epoch 75/100\n",
      "750/750 [==============================] - 0s 36us/sample - loss: 0.3036 - acc: 0.8680\n",
      "Epoch 76/100\n",
      "750/750 [==============================] - 0s 36us/sample - loss: 0.3020 - acc: 0.8680\n",
      "Epoch 77/100\n",
      "750/750 [==============================] - 0s 40us/sample - loss: 0.3004 - acc: 0.8693\n",
      "Epoch 78/100\n",
      "750/750 [==============================] - 0s 35us/sample - loss: 0.2988 - acc: 0.8693\n",
      "Epoch 79/100\n",
      "750/750 [==============================] - 0s 35us/sample - loss: 0.2974 - acc: 0.8707\n",
      "Epoch 80/100\n",
      "750/750 [==============================] - 0s 35us/sample - loss: 0.2959 - acc: 0.8707\n",
      "Epoch 81/100\n",
      "750/750 [==============================] - 0s 35us/sample - loss: 0.2946 - acc: 0.8720\n",
      "Epoch 82/100\n",
      "750/750 [==============================] - 0s 37us/sample - loss: 0.2932 - acc: 0.8733\n",
      "Epoch 83/100\n",
      "750/750 [==============================] - 0s 33us/sample - loss: 0.2919 - acc: 0.8733\n",
      "Epoch 84/100\n",
      "750/750 [==============================] - 0s 36us/sample - loss: 0.2907 - acc: 0.8733\n",
      "Epoch 85/100\n",
      "750/750 [==============================] - 0s 39us/sample - loss: 0.2895 - acc: 0.8733\n",
      "Epoch 86/100\n",
      "750/750 [==============================] - 0s 35us/sample - loss: 0.2883 - acc: 0.8733\n",
      "Epoch 87/100\n",
      "750/750 [==============================] - 0s 36us/sample - loss: 0.2872 - acc: 0.8733\n",
      "Epoch 88/100\n",
      "750/750 [==============================] - 0s 39us/sample - loss: 0.2862 - acc: 0.8733\n",
      "Epoch 89/100\n",
      "750/750 [==============================] - 0s 35us/sample - loss: 0.2851 - acc: 0.8747\n",
      "Epoch 90/100\n",
      "750/750 [==============================] - 0s 35us/sample - loss: 0.2841 - acc: 0.8747\n",
      "Epoch 91/100\n",
      "750/750 [==============================] - 0s 35us/sample - loss: 0.2831 - acc: 0.8773\n",
      "Epoch 92/100\n",
      "750/750 [==============================] - 0s 35us/sample - loss: 0.2822 - acc: 0.8773\n",
      "Epoch 93/100\n",
      "750/750 [==============================] - 0s 35us/sample - loss: 0.2812 - acc: 0.8813\n",
      "Epoch 94/100\n",
      "750/750 [==============================] - 0s 43us/sample - loss: 0.2805 - acc: 0.8827\n",
      "Epoch 95/100\n",
      "750/750 [==============================] - 0s 51us/sample - loss: 0.2795 - acc: 0.8813\n",
      "Epoch 96/100\n",
      "750/750 [==============================] - 0s 40us/sample - loss: 0.2787 - acc: 0.8840\n",
      "Epoch 97/100\n",
      "750/750 [==============================] - 0s 35us/sample - loss: 0.2779 - acc: 0.8840\n",
      "Epoch 98/100\n",
      "750/750 [==============================] - 0s 32us/sample - loss: 0.2771 - acc: 0.8840\n",
      "Epoch 99/100\n",
      "750/750 [==============================] - 0s 39us/sample - loss: 0.2764 - acc: 0.8840\n",
      "Epoch 100/100\n",
      "750/750 [==============================] - 0s 39us/sample - loss: 0.2756 - acc: 0.8853\n"
     ]
    }
   ],
   "source": [
    "# Training the model with the nonlinear data\n",
    "model_moon = nn_model.fit(X_moon_train_scaled, y_moon_train, epochs=100, shuffle=True)\n"
   ]
  },
  {
   "cell_type": "code",
   "execution_count": 43,
   "metadata": {},
   "outputs": [
    {
     "data": {
      "text/plain": [
       "<matplotlib.axes._subplots.AxesSubplot at 0x224a8eaa048>"
      ]
     },
     "execution_count": 43,
     "metadata": {},
     "output_type": "execute_result"
    },
    {
     "data": {
      "image/png": "[encoded data removed]",
      "text/plain": [
       "<Figure size 432x288 with 1 Axes>"
      ]
     },
     "metadata": {
      "needs_background": "light"
     },
     "output_type": "display_data"
    }
   ],
   "source": [
    "# Create a DataFrame containing training history\n",
    "history_df = pd.DataFrame(model_moon.history, index=range(1,len(model_moon.history[\"loss\"])+1))\n",
    "\n",
    "# Plot the loss\n",
    "history_df.plot(y=\"loss\")\n"
   ]
  },
  {
   "cell_type": "code",
   "execution_count": 44,
   "metadata": {},
   "outputs": [
    {
     "data": {
      "text/plain": [
       "<matplotlib.axes._subplots.AxesSubplot at 0x224a8f2f908>"
      ]
     },
     "execution_count": 44,
     "metadata": {},
     "output_type": "execute_result"
    },
    {
     "data": {
      "image/png": "[encoded data removed]",
      "text/plain": [
       "<Figure size 432x288 with 1 Axes>"
      ]
     },
     "metadata": {
      "needs_background": "light"
     },
     "output_type": "display_data"
    }
   ],
   "source": [
    "# Plot the loss\n",
    "history_df.plot(y=\"acc\")\n"
   ]
  },
  {
   "cell_type": "code",
   "execution_count": 45,
   "metadata": {},
   "outputs": [],
   "source": [
    "# Generate our new Sequential model\n",
    "new_model = tf.keras.models.Sequential()"
   ]
  },
  {
   "cell_type": "code",
   "execution_count": 46,
   "metadata": {},
   "outputs": [],
   "source": [
    "# Add the input and hidden layer\n",
    "number_inputs = 2\n",
    "number_hidden_nodes = 6\n",
    "\n",
    "new_model.add(tf.keras.layers.Dense(units=number_hidden_nodes, activation=\"relu\", input_dim=number_inputs))\n",
    "\n",
    "# Add the output layer that uses a probability activation function\n",
    "new_model.add(tf.keras.layers.Dense(units=1, activation=\"sigmoid\"))\n"
   ]
  },
  {
   "cell_type": "code",
   "execution_count": 47,
   "metadata": {},
   "outputs": [
    {
     "name": "stdout",
     "output_type": "stream",
     "text": [
      "Epoch 1/100\n",
      "750/750 [==============================] - 0s 620us/sample - loss: 0.6343 - acc: 0.4653\n",
      "Epoch 2/100\n",
      "750/750 [==============================] - 0s 48us/sample - loss: 0.6163 - acc: 0.5253\n",
      "Epoch 3/100\n",
      "750/750 [==============================] - 0s 60us/sample - loss: 0.5996 - acc: 0.6040\n",
      "Epoch 4/100\n",
      "750/750 [==============================] - 0s 65us/sample - loss: 0.5838 - acc: 0.6920\n",
      "Epoch 5/100\n",
      "750/750 [==============================] - 0s 60us/sample - loss: 0.5679 - acc: 0.7053\n",
      "Epoch 6/100\n",
      "750/750 [==============================] - 0s 44us/sample - loss: 0.5513 - acc: 0.7200\n",
      "Epoch 7/100\n",
      "750/750 [==============================] - 0s 47us/sample - loss: 0.5343 - acc: 0.7333\n",
      "Epoch 8/100\n",
      "750/750 [==============================] - 0s 43us/sample - loss: 0.5163 - acc: 0.7427\n",
      "Epoch 9/100\n",
      "750/750 [==============================] - 0s 45us/sample - loss: 0.4982 - acc: 0.7520\n",
      "Epoch 10/100\n",
      "750/750 [==============================] - 0s 43us/sample - loss: 0.4796 - acc: 0.7600\n",
      "Epoch 11/100\n",
      "750/750 [==============================] - 0s 41us/sample - loss: 0.4619 - acc: 0.7640\n",
      "Epoch 12/100\n",
      "750/750 [==============================] - 0s 45us/sample - loss: 0.4445 - acc: 0.7680\n",
      "Epoch 13/100\n",
      "750/750 [==============================] - 0s 45us/sample - loss: 0.4278 - acc: 0.7867\n",
      "Epoch 14/100\n",
      "750/750 [==============================] - 0s 49us/sample - loss: 0.4124 - acc: 0.7973\n",
      "Epoch 15/100\n",
      "750/750 [==============================] - 0s 47us/sample - loss: 0.3979 - acc: 0.8040\n",
      "Epoch 16/100\n",
      "750/750 [==============================] - 0s 43us/sample - loss: 0.3846 - acc: 0.8093\n",
      "Epoch 17/100\n",
      "750/750 [==============================] - 0s 44us/sample - loss: 0.3725 - acc: 0.8173\n",
      "Epoch 18/100\n",
      "750/750 [==============================] - 0s 41us/sample - loss: 0.3608 - acc: 0.8213\n",
      "Epoch 19/100\n",
      "750/750 [==============================] - 0s 36us/sample - loss: 0.3504 - acc: 0.8240\n",
      "Epoch 20/100\n",
      "750/750 [==============================] - 0s 37us/sample - loss: 0.3405 - acc: 0.8267\n",
      "Epoch 21/100\n",
      "750/750 [==============================] - 0s 36us/sample - loss: 0.3314 - acc: 0.8320\n",
      "Epoch 22/100\n",
      "750/750 [==============================] - 0s 40us/sample - loss: 0.3228 - acc: 0.8373\n",
      "Epoch 23/100\n",
      "750/750 [==============================] - 0s 40us/sample - loss: 0.3148 - acc: 0.8413\n",
      "Epoch 24/100\n",
      "750/750 [==============================] - 0s 37us/sample - loss: 0.3075 - acc: 0.8533\n",
      "Epoch 25/100\n",
      "750/750 [==============================] - 0s 36us/sample - loss: 0.3010 - acc: 0.8587\n",
      "Epoch 26/100\n",
      "750/750 [==============================] - 0s 40us/sample - loss: 0.2949 - acc: 0.8627\n",
      "Epoch 27/100\n",
      "750/750 [==============================] - 0s 44us/sample - loss: 0.2894 - acc: 0.8733\n",
      "Epoch 28/100\n",
      "750/750 [==============================] - 0s 35us/sample - loss: 0.2842 - acc: 0.8773\n",
      "Epoch 29/100\n",
      "750/750 [==============================] - 0s 32us/sample - loss: 0.2793 - acc: 0.8800\n",
      "Epoch 30/100\n",
      "750/750 [==============================] - 0s 41us/sample - loss: 0.2749 - acc: 0.8813\n",
      "Epoch 31/100\n",
      "750/750 [==============================] - 0s 41us/sample - loss: 0.2710 - acc: 0.8827\n",
      "Epoch 32/100\n",
      "750/750 [==============================] - 0s 35us/sample - loss: 0.2671 - acc: 0.8867\n",
      "Epoch 33/100\n",
      "750/750 [==============================] - 0s 36us/sample - loss: 0.2639 - acc: 0.8893\n",
      "Epoch 34/100\n",
      "750/750 [==============================] - 0s 53us/sample - loss: 0.2606 - acc: 0.8893\n",
      "Epoch 35/100\n",
      "750/750 [==============================] - 0s 45us/sample - loss: 0.2577 - acc: 0.8920\n",
      "Epoch 36/100\n",
      "750/750 [==============================] - 0s 41us/sample - loss: 0.2549 - acc: 0.8947\n",
      "Epoch 37/100\n",
      "750/750 [==============================] - 0s 37us/sample - loss: 0.2524 - acc: 0.8947\n",
      "Epoch 38/100\n",
      "750/750 [==============================] - 0s 37us/sample - loss: 0.2499 - acc: 0.8960\n",
      "Epoch 39/100\n",
      "750/750 [==============================] - 0s 36us/sample - loss: 0.2477 - acc: 0.8973\n",
      "Epoch 40/100\n",
      "750/750 [==============================] - 0s 35us/sample - loss: 0.2456 - acc: 0.9000\n",
      "Epoch 41/100\n",
      "750/750 [==============================] - 0s 37us/sample - loss: 0.2436 - acc: 0.9000\n",
      "Epoch 42/100\n",
      "750/750 [==============================] - 0s 39us/sample - loss: 0.2416 - acc: 0.9027\n",
      "Epoch 43/100\n",
      "750/750 [==============================] - 0s 36us/sample - loss: 0.2398 - acc: 0.9013\n",
      "Epoch 44/100\n",
      "750/750 [==============================] - 0s 36us/sample - loss: 0.2381 - acc: 0.9013\n",
      "Epoch 45/100\n",
      "750/750 [==============================] - 0s 35us/sample - loss: 0.2363 - acc: 0.9013\n",
      "Epoch 46/100\n",
      "750/750 [==============================] - 0s 37us/sample - loss: 0.2349 - acc: 0.9013\n",
      "Epoch 47/100\n",
      "750/750 [==============================] - 0s 36us/sample - loss: 0.2332 - acc: 0.9027\n",
      "Epoch 48/100\n",
      "750/750 [==============================] - 0s 36us/sample - loss: 0.2319 - acc: 0.9027\n",
      "Epoch 49/100\n",
      "750/750 [==============================] - 0s 43us/sample - loss: 0.2302 - acc: 0.9040\n",
      "Epoch 50/100\n",
      "750/750 [==============================] - 0s 43us/sample - loss: 0.2288 - acc: 0.9040\n",
      "Epoch 51/100\n",
      "750/750 [==============================] - 0s 51us/sample - loss: 0.2275 - acc: 0.9053\n",
      "Epoch 52/100\n",
      "750/750 [==============================] - 0s 36us/sample - loss: 0.2262 - acc: 0.9067\n",
      "Epoch 53/100\n",
      "750/750 [==============================] - 0s 39us/sample - loss: 0.2247 - acc: 0.9080\n",
      "Epoch 54/100\n",
      "750/750 [==============================] - 0s 33us/sample - loss: 0.2234 - acc: 0.9093\n",
      "Epoch 55/100\n",
      "750/750 [==============================] - 0s 35us/sample - loss: 0.2220 - acc: 0.9107\n",
      "Epoch 56/100\n",
      "750/750 [==============================] - 0s 39us/sample - loss: 0.2207 - acc: 0.9107\n",
      "Epoch 57/100\n",
      "750/750 [==============================] - 0s 35us/sample - loss: 0.2194 - acc: 0.9107\n",
      "Epoch 58/100\n",
      "750/750 [==============================] - 0s 37us/sample - loss: 0.2181 - acc: 0.9107\n",
      "Epoch 59/100\n",
      "750/750 [==============================] - 0s 40us/sample - loss: 0.2168 - acc: 0.9133\n",
      "Epoch 60/100\n",
      "750/750 [==============================] - 0s 47us/sample - loss: 0.2154 - acc: 0.9147\n",
      "Epoch 61/100\n",
      "750/750 [==============================] - 0s 77us/sample - loss: 0.2141 - acc: 0.9147\n",
      "Epoch 62/100\n",
      "750/750 [==============================] - 0s 62us/sample - loss: 0.2127 - acc: 0.9160\n",
      "Epoch 63/100\n",
      "750/750 [==============================] - 0s 39us/sample - loss: 0.2115 - acc: 0.9160\n",
      "Epoch 64/100\n",
      "750/750 [==============================] - 0s 35us/sample - loss: 0.2100 - acc: 0.9173\n",
      "Epoch 65/100\n",
      "750/750 [==============================] - 0s 37us/sample - loss: 0.2086 - acc: 0.9173\n",
      "Epoch 66/100\n",
      "750/750 [==============================] - 0s 38us/sample - loss: 0.2073 - acc: 0.9173\n",
      "Epoch 67/100\n",
      "750/750 [==============================] - 0s 37us/sample - loss: 0.2059 - acc: 0.9173\n",
      "Epoch 68/100\n",
      "750/750 [==============================] - 0s 41us/sample - loss: 0.2044 - acc: 0.9173\n",
      "Epoch 69/100\n",
      "750/750 [==============================] - 0s 44us/sample - loss: 0.2028 - acc: 0.9173\n",
      "Epoch 70/100\n",
      "750/750 [==============================] - 0s 37us/sample - loss: 0.2013 - acc: 0.9173\n",
      "Epoch 71/100\n",
      "750/750 [==============================] - 0s 39us/sample - loss: 0.1999 - acc: 0.9173\n",
      "Epoch 72/100\n",
      "750/750 [==============================] - 0s 34us/sample - loss: 0.1984 - acc: 0.9187\n",
      "Epoch 73/100\n",
      "750/750 [==============================] - 0s 36us/sample - loss: 0.1969 - acc: 0.9200\n",
      "Epoch 74/100\n",
      "750/750 [==============================] - 0s 35us/sample - loss: 0.1954 - acc: 0.9213\n",
      "Epoch 75/100\n",
      "750/750 [==============================] - 0s 36us/sample - loss: 0.1939 - acc: 0.9213\n",
      "Epoch 76/100\n",
      "750/750 [==============================] - 0s 35us/sample - loss: 0.1926 - acc: 0.9213\n",
      "Epoch 77/100\n",
      "750/750 [==============================] - 0s 39us/sample - loss: 0.1909 - acc: 0.9213\n",
      "Epoch 78/100\n",
      "750/750 [==============================] - 0s 35us/sample - loss: 0.1892 - acc: 0.9213\n",
      "Epoch 79/100\n",
      "750/750 [==============================] - 0s 35us/sample - loss: 0.1876 - acc: 0.9227\n",
      "Epoch 80/100\n",
      "750/750 [==============================] - 0s 37us/sample - loss: 0.1859 - acc: 0.9227\n",
      "Epoch 81/100\n",
      "750/750 [==============================] - 0s 37us/sample - loss: 0.1842 - acc: 0.9240\n",
      "Epoch 82/100\n",
      "750/750 [==============================] - 0s 36us/sample - loss: 0.1826 - acc: 0.9227\n",
      "Epoch 83/100\n",
      "750/750 [==============================] - ETA: 0s - loss: 0.1123 - acc: 0.968 - 0s 35us/sample - loss: 0.1812 - acc: 0.9253\n",
      "Epoch 84/100\n",
      "750/750 [==============================] - 0s 35us/sample - loss: 0.1792 - acc: 0.9240\n",
      "Epoch 85/100\n",
      "750/750 [==============================] - 0s 35us/sample - loss: 0.1776 - acc: 0.9267\n",
      "Epoch 86/100\n",
      "750/750 [==============================] - 0s 39us/sample - loss: 0.1759 - acc: 0.9267\n",
      "Epoch 87/100\n",
      "750/750 [==============================] - 0s 35us/sample - loss: 0.1744 - acc: 0.9280\n",
      "Epoch 88/100\n",
      "750/750 [==============================] - 0s 36us/sample - loss: 0.1726 - acc: 0.9280\n",
      "Epoch 89/100\n",
      "750/750 [==============================] - 0s 37us/sample - loss: 0.1709 - acc: 0.9293\n",
      "Epoch 90/100\n",
      "750/750 [==============================] - 0s 37us/sample - loss: 0.1693 - acc: 0.9320\n",
      "Epoch 91/100\n",
      "750/750 [==============================] - 0s 39us/sample - loss: 0.1677 - acc: 0.9333\n",
      "Epoch 92/100\n",
      "750/750 [==============================] - 0s 36us/sample - loss: 0.1661 - acc: 0.9360\n",
      "Epoch 93/100\n",
      "750/750 [==============================] - 0s 40us/sample - loss: 0.1641 - acc: 0.9360\n",
      "Epoch 94/100\n",
      "750/750 [==============================] - 0s 37us/sample - loss: 0.1625 - acc: 0.9373\n",
      "Epoch 95/100\n",
      "750/750 [==============================] - 0s 57us/sample - loss: 0.1609 - acc: 0.9373\n",
      "Epoch 96/100\n",
      "750/750 [==============================] - 0s 43us/sample - loss: 0.1591 - acc: 0.9387\n",
      "Epoch 97/100\n",
      "750/750 [==============================] - 0s 37us/sample - loss: 0.1574 - acc: 0.9400\n",
      "Epoch 98/100\n",
      "750/750 [==============================] - 0s 35us/sample - loss: 0.1558 - acc: 0.9400\n",
      "Epoch 99/100\n",
      "750/750 [==============================] - 0s 37us/sample - loss: 0.1541 - acc: 0.9413\n",
      "Epoch 100/100\n",
      "750/750 [==============================] - 0s 36us/sample - loss: 0.1527 - acc: 0.9413\n"
     ]
    }
   ],
   "source": [
    "# Compile the Sequential model together and customize metrics\n",
    "new_model.compile(loss=\"binary_crossentropy\", optimizer=\"adam\", metrics=[\"accuracy\"])\n",
    "\n",
    "# Fit the model to the training data\n",
    "new_fit_model = new_model.fit(X_moon_train_scaled, y_moon_train, epochs=100, shuffle=True)\n"
   ]
  },
  {
   "cell_type": "code",
   "execution_count": 48,
   "metadata": {},
   "outputs": [
    {
     "data": {
      "text/plain": [
       "<matplotlib.axes._subplots.AxesSubplot at 0x224a930e0c8>"
      ]
     },
     "execution_count": 48,
     "metadata": {},
     "output_type": "execute_result"
    },
    {
     "data": {
      "image/png": "[encoded data removed]",
      "text/plain": [
       "<Figure size 432x288 with 1 Axes>"
      ]
     },
     "metadata": {
      "needs_background": "light"
     },
     "output_type": "display_data"
    }
   ],
   "source": [
    "# Create a DataFrame containing training history\n",
    "history_df = pd.DataFrame(model_moon.history, index=range(1,len(model_moon.history[\"loss\"])+1))\n",
    "\n",
    "# Plot the loss\n",
    "history_df.plot(y=\"loss\")"
   ]
  },
  {
   "cell_type": "code",
   "execution_count": 50,
   "metadata": {},
   "outputs": [
    {
     "data": {
      "text/plain": [
       "<matplotlib.axes._subplots.AxesSubplot at 0x224aa33f5c8>"
      ]
     },
     "execution_count": 50,
     "metadata": {},
     "output_type": "execute_result"
    },
    {
     "data": {
      "image/png": "[encoded data removed]",
      "text/plain": [
       "<Figure size 432x288 with 1 Axes>"
      ]
     },
     "metadata": {
      "needs_background": "light"
     },
     "output_type": "display_data"
    }
   ],
   "source": [
    "# Scatter plot (Skill Drill 19.2.6)\n",
    "history_df.plot(kind='scatter',x='loss', y='acc')"
   ]
  },
  {
   "cell_type": "code",
   "execution_count": null,
   "metadata": {},
   "outputs": [],
   "source": []
  }
 ],
 "metadata": {
  "kernelspec": {
   "display_name": "PythonData",
   "language": "python",
   "name": "pythondata"
  },
  "language_info": {
   "codemirror_mode": {
    "name": "ipython",
    "version": 3
   },
   "file_extension": ".py",
   "mimetype": "text/x-python",
   "name": "python",
   "nbconvert_exporter": "python",
   "pygments_lexer": "ipython3",
   "version": "3.7.6"
  }
 },
 "nbformat": 4,
 "nbformat_minor": 4
}
